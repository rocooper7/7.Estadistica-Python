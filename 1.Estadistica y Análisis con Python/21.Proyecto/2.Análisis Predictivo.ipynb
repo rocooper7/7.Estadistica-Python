{
 "cells": [
  {
   "cell_type": "code",
   "execution_count": 2,
   "metadata": {},
   "outputs": [],
   "source": [
    "import pandas as pd\n",
    "import numpy as np\n",
    "import seaborn as sns\n",
    "import os\n",
    "%matplotlib inline"
   ]
  },
  {
   "cell_type": "code",
   "execution_count": 3,
   "metadata": {},
   "outputs": [
    {
     "output_type": "execute_result",
     "data": {
      "text/plain": [
       "Index(['Unnamed: 0', 'PassengerId', 'Survived', 'Name', 'Age', 'SibSp',\n",
       "       'Parch', 'Ticket', 'Fare', 'is-Pclass-1', 'is-Pclass-2', 'is-Sex-male',\n",
       "       'is-Embarked-S', 'is-Embarked-C', 'family_size'],\n",
       "      dtype='object')"
      ]
     },
     "metadata": {},
     "execution_count": 3
    }
   ],
   "source": [
    "os.chdir('C:\\\\Python\\\\9.Estadistica y Analisis Python\\\\1.Estadistica y Análisis con Python\\\\21.Proyecto')\n",
    "df = pd.read_csv('titanic-master-table.csv')  \n",
    "df.columns"
   ]
  },
  {
   "cell_type": "code",
   "execution_count": 7,
   "metadata": {},
   "outputs": [],
   "source": [
    "y = df['Survived']\n",
    "X = df[['Age', 'SibSp','Parch',  'Fare', 'is-Pclass-1', 'is-Pclass-2', 'is-Sex-male','is-Embarked-S', 'is-Embarked-C', 'family_size']]"
   ]
  },
  {
   "cell_type": "code",
   "execution_count": 8,
   "metadata": {},
   "outputs": [],
   "source": [
    "from sklearn.model_selection import train_test_split\n",
    "X_train, X_test, y_train, y_test = train_test_split(X, y, test_size=0.15, random_state=1)"
   ]
  },
  {
   "cell_type": "code",
   "execution_count": 9,
   "metadata": {},
   "outputs": [],
   "source": [
    "from sklearn.linear_model import LogisticRegression\n",
    "from sklearn.tree import DecisionTreeClassifier"
   ]
  },
  {
   "cell_type": "code",
   "execution_count": 10,
   "metadata": {},
   "outputs": [],
   "source": [
    "clf = [\n",
    "    (LogisticRegression(), 'reg-log' ),\n",
    "    (DecisionTreeClassifier(), 'arbol-class' )\n",
    "]"
   ]
  },
  {
   "cell_type": "code",
   "execution_count": 14,
   "metadata": {},
   "outputs": [
    {
     "output_type": "stream",
     "name": "stdout",
     "text": [
      "reg-log\nResultado en la prueba del modelo : 79.35 %\narbol-class\nResultado en la prueba del modelo : 76.09 %\n"
     ]
    }
   ],
   "source": [
    "import joblib\n",
    "from sklearn.metrics import accuracy_score\n",
    "\n",
    "for model, name in clf:\n",
    "    \n",
    "    #Entrenar\n",
    "    model.fit(X_train,y_train)\n",
    "    \n",
    "    #Medir\n",
    "    y_pred = model.predict(X_test)\n",
    "    accuracy = accuracy_score( y_test, y_pred)\n",
    "    print(name)\n",
    "    print('Resultado en la prueba del modelo :', round(accuracy*100, 2), '%')\n",
    "    \n",
    "    #Guardar\n",
    "    job_file = 'modelo-'+name+'.pkl'\n",
    "    joblib.dump(model, job_file)"
   ]
  }
 ],
 "metadata": {
  "kernelspec": {
   "display_name": "Python 3",
   "language": "python",
   "name": "python3"
  },
  "language_info": {
   "codemirror_mode": {
    "name": "ipython",
    "version": 3
   },
   "file_extension": ".py",
   "mimetype": "text/x-python",
   "name": "python",
   "nbconvert_exporter": "python",
   "pygments_lexer": "ipython3",
   "version": "3.8.3-final"
  }
 },
 "nbformat": 4,
 "nbformat_minor": 2
}