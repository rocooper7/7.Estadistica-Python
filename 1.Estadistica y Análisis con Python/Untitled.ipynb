{
 "cells": [
  {
   "cell_type": "code",
   "execution_count": 18,
   "metadata": {
    "tags": []
   },
   "outputs": [
    {
     "output_type": "stream",
     "name": "stdout",
     "text": "Media aritmética: 9.0\nDesviación Media: 3.2\n"
    }
   ],
   "source": [
    "# -*- coding: utf-8 -*-\n",
    "from functools import reduce\n",
    "\n",
    "def media(lista):\n",
    "    return reduce( lambda a, b: a + b, lista ) / len(lista)\n",
    "\n",
    "def desviacionMedia(lista):\n",
    "  # Recorrer lista de elementos y cada elemento restarle la media aritmética de toda la lista. Luego, sumar los resultados\n",
    "    mediaArit = media(lista)\n",
    "    return reduce(lambda a, b: a + b, list(map(lambda a: abs(a - mediaArit), lista)) ) / len(lista)\n",
    "\n",
    "if __name__ == '__main__':\n",
    "    lista = [4, 7, 8, 10, 16]\n",
    "    print('Media aritmética: {}'.format( media(lista) ))\n",
    "    print('Desviación Media: {}'.format( desviacionMedia(lista) ))"
   ]
  },
  {
   "cell_type": "code",
   "execution_count": 22,
   "metadata": {},
   "outputs": [
    {
     "output_type": "execute_result",
     "data": {
      "text/plain": "3.2"
     },
     "metadata": {},
     "execution_count": 22
    }
   ],
   "source": [
    "import numpy as np\n",
    "lista = [4, 7, 8, 10, 16]\n",
    "#sum(lista)/len(lista)\n",
    "reduce(lambda a, b: a + b, list(map(lambda a: abs(a - 9), lista)) ) / len(lista)"
   ]
  }
 ],
 "metadata": {
  "kernelspec": {
   "display_name": "Python 3",
   "language": "python",
   "name": "python3"
  },
  "language_info": {
   "codemirror_mode": {
    "name": "ipython",
    "version": 3
   },
   "file_extension": ".py",
   "mimetype": "text/x-python",
   "name": "python",
   "nbconvert_exporter": "python",
   "pygments_lexer": "ipython3",
   "version": "3.8.2-final"
  }
 },
 "nbformat": 4,
 "nbformat_minor": 2
}