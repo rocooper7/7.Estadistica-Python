{
 "cells": [
  {
   "cell_type": "code",
   "execution_count": 45,
   "metadata": {},
   "outputs": [],
   "source": [
    "import numpy as np\n",
    "import pandas as pd\n",
    "import scipy\n",
    "import scipy.stats\n",
    "from scipy import stats"
   ]
  },
  {
   "cell_type": "code",
   "execution_count": 46,
   "metadata": {},
   "outputs": [
    {
     "output_type": "execute_result",
     "data": {
      "text/plain": "Index(['fecha', 'bicis-compartidas', 'temp-obs', 'sens-temp', 'hum', 'viento',\n       'codigo-clima', 'festivo', 'findesemana', 'cuartil-ano'],\n      dtype='object')"
     },
     "metadata": {},
     "execution_count": 46
    }
   ],
   "source": [
    "df = pd.read_csv('bicicletas-compartidas.csv')\n",
    "df.columns"
   ]
  },
  {
   "cell_type": "code",
   "execution_count": 47,
   "metadata": {},
   "outputs": [],
   "source": [
    "y = df['bicis-compartidas'].values\n",
    "y\n",
    "y = np.where(y == 0, 1, y)"
   ]
  },
  {
   "cell_type": "code",
   "execution_count": 48,
   "metadata": {},
   "outputs": [
    {
     "output_type": "execute_result",
     "data": {
      "text/plain": "1"
     },
     "metadata": {},
     "execution_count": 48
    }
   ],
   "source": [
    "np.min(y)"
   ]
  },
  {
   "cell_type": "code",
   "execution_count": 49,
   "metadata": {},
   "outputs": [
    {
     "output_type": "execute_result",
     "data": {
      "text/plain": "7860"
     },
     "metadata": {},
     "execution_count": 49
    }
   ],
   "source": [
    "np.max(y)"
   ]
  },
  {
   "cell_type": "code",
   "execution_count": 50,
   "metadata": {},
   "outputs": [],
   "source": [
    "# promedio: sum(yi)/n"
   ]
  },
  {
   "cell_type": "code",
   "execution_count": 51,
   "metadata": {},
   "outputs": [
    {
     "output_type": "execute_result",
     "data": {
      "text/plain": "1143.1016997817849"
     },
     "metadata": {},
     "execution_count": 51
    }
   ],
   "source": [
    "np.mean(y) "
   ]
  },
  {
   "cell_type": "code",
   "execution_count": 52,
   "metadata": {},
   "outputs": [
    {
     "output_type": "execute_result",
     "data": {
      "text/plain": "1143.1016997817849"
     },
     "metadata": {},
     "execution_count": 52
    }
   ],
   "source": [
    "np.sum(y)/len(y)"
   ]
  },
  {
   "cell_type": "code",
   "execution_count": 53,
   "metadata": {},
   "outputs": [
    {
     "output_type": "execute_result",
     "data": {
      "text/plain": "241.65180305136826"
     },
     "metadata": {},
     "execution_count": 53
    }
   ],
   "source": [
    "#Media geométrica\n",
    "scipy.stats.mstats.hmean(y)"
   ]
  },
  {
   "cell_type": "code",
   "execution_count": 54,
   "metadata": {},
   "outputs": [
    {
     "output_type": "execute_result",
     "data": {
      "text/plain": "844.0"
     },
     "metadata": {},
     "execution_count": 54
    }
   ],
   "source": [
    "#Mediana\n",
    "np.median(y)"
   ]
  },
  {
   "cell_type": "code",
   "execution_count": 55,
   "metadata": {},
   "outputs": [],
   "source": [
    "#moda = valor de y con la maxima frecuencia\n",
    "\n",
    "moda =np.nan    #Se inicializa contando en nada (NAN)\n",
    "\n",
    "valores, conteo_valores = np.unique(y, return_counts = True)\n",
    "pos = np.argmax(conteo_valores)\n",
    "moda = valores[pos]\n",
    "#y = pd.Series(valores)\n",
    "#y.iloc[38]"
   ]
  },
  {
   "cell_type": "code",
   "execution_count": 56,
   "metadata": {},
   "outputs": [
    {
     "output_type": "execute_result",
     "data": {
      "text/plain": "46"
     },
     "metadata": {},
     "execution_count": 56
    }
   ],
   "source": [
    "moda"
   ]
  },
  {
   "cell_type": "code",
   "execution_count": 71,
   "metadata": {},
   "outputs": [
    {
     "output_type": "execute_result",
     "data": {
      "text/plain": "ModeResult(mode=array([46], dtype=int64), count=array([46]))"
     },
     "metadata": {},
     "execution_count": 71
    }
   ],
   "source": [
    "stats.mode(y)#[0]     #Otra forma de sacar la moda "
   ]
  },
  {
   "cell_type": "code",
   "execution_count": 72,
   "metadata": {},
   "outputs": [
    {
     "output_type": "execute_result",
     "data": {
      "text/plain": "1085.0768508213835"
     },
     "metadata": {},
     "execution_count": 72
    }
   ],
   "source": [
    "#Desviación estandar\n",
    "np.std(y)"
   ]
  },
  {
   "cell_type": "markdown",
   "metadata": {},
   "source": [
    "Revisiones"
   ]
  },
  {
   "cell_type": "code",
   "execution_count": 88,
   "metadata": {},
   "outputs": [],
   "source": [
    "y_alterado = y.copy()"
   ]
  },
  {
   "cell_type": "code",
   "execution_count": 91,
   "metadata": {},
   "outputs": [
    {
     "output_type": "execute_result",
     "data": {
      "text/plain": "array([10000000], dtype=int64)"
     },
     "metadata": {},
     "execution_count": 91
    }
   ],
   "source": [
    "y_alterado[y_alterado == max(y_alterado)]# = 10000000    #Se altera el numero max de la columna y 7860 por 10000000"
   ]
  },
  {
   "cell_type": "code",
   "execution_count": 92,
   "metadata": {
    "tags": []
   },
   "outputs": [
    {
     "output_type": "stream",
     "name": "stdout",
     "text": "1143.1016997817849\n1716.9009417709888\n"
    }
   ],
   "source": [
    "print( np.mean(y) )               #El Promedio se ve afectado por un valor atipico\n",
    "print( np.mean(y_alterado) )"
   ]
  },
  {
   "cell_type": "code",
   "execution_count": 93,
   "metadata": {
    "tags": []
   },
   "outputs": [
    {
     "output_type": "stream",
     "name": "stdout",
     "text": "844.0\n"
    }
   ],
   "source": [
    "print( np.median(y))"
   ]
  },
  {
   "cell_type": "code",
   "execution_count": 94,
   "metadata": {
    "tags": []
   },
   "outputs": [
    {
     "output_type": "stream",
     "name": "stdout",
     "text": "844.0\n"
    }
   ],
   "source": [
    "print( np.median(y_alterado))"
   ]
  }
 ],
 "metadata": {
  "kernelspec": {
   "display_name": "Python 3.7.4 64-bit ('Anaconda': conda)",
   "language": "python",
   "name": "python37464bitanacondaconda74954a3f106b47d99d44e5fb8ca66932"
  },
  "language_info": {
   "codemirror_mode": {
    "name": "ipython",
    "version": 3
   },
   "file_extension": ".py",
   "mimetype": "text/x-python",
   "name": "python",
   "nbconvert_exporter": "python",
   "pygments_lexer": "ipython3",
   "version": "3.7.4-final"
  }
 },
 "nbformat": 4,
 "nbformat_minor": 2
}