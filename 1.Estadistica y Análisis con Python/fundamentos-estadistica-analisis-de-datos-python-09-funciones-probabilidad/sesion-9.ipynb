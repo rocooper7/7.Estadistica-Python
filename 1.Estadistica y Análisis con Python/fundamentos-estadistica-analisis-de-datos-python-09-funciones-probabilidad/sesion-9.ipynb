{
 "cells": [
  {
   "cell_type": "code",
   "execution_count": 4,
   "metadata": {},
   "outputs": [],
   "source": [
    "import scipy.stats\n",
    "import numpy as np\n",
    "import pandas as pd\n",
    "import matplotlib.pyplot as plt\n",
    "import seaborn as sns\n",
    "%matplotlib inline"
   ]
  },
  {
   "cell_type": "code",
   "execution_count": 5,
   "metadata": {},
   "outputs": [
    {
     "name": "stdout",
     "output_type": "stream",
     "text": [
      "[0.05764801000000002, 0.1976503200000001, 0.2964754800000002, 0.25412184, 0.1361367, 0.04667544000000001, 0.010001879999999989, 0.0012247199999999988, 6.560999999999994e-05]\n"
     ]
    },
    {
     "data": {
      "text/plain": [
       "1.0000000000000002"
      ]
     },
     "execution_count": 5,
     "metadata": {},
     "output_type": "execute_result"
    },
    {
     "data": {
      "image/png": "[encoded data removed]",
      "text/plain": [
       "<Figure size 432x288 with 1 Axes>"
      ]
     },
     "metadata": {
      "needs_background": "light"
     },
     "output_type": "display_data"
    }
   ],
   "source": [
    "from scipy.stats import binom         #Ejemplo de probabilidad discreta\n",
    "\n",
    "p = 0.3         #Probabilidad de exito\n",
    "n= 8          #No. de intentos para obtener un numero dado de exitos\n",
    "\n",
    "x = list(range(0,9,1)) \n",
    "y = list([])\n",
    "\n",
    "for i in x:\n",
    "    y.append( binom.pmf(i, p= p, n=n))\n",
    "\n",
    "fig, ax = plt.subplots()\n",
    "ax.bar(x,y)\n",
    "ax.set_ylabel('probabilidad discreta')\n",
    "print(y)\n",
    "np.sum(y)"
   ]
  },
  {
   "cell_type": "code",
   "execution_count": 6,
   "metadata": {},
   "outputs": [
    {
     "data": {
      "text/plain": [
       "(2.4, 1.68)"
      ]
     },
     "execution_count": 6,
     "metadata": {},
     "output_type": "execute_result"
    }
   ],
   "source": [
    "media = np.average(x, weights = y)       #Forma compleja de sacar media y varianza \n",
    "varianza = np.average( (( x - media )**2),  weights = y )\n",
    "media,varianza"
   ]
  },
  {
   "cell_type": "code",
   "execution_count": 7,
   "metadata": {},
   "outputs": [
    {
     "data": {
      "text/plain": [
       "(array(2.4), array(1.68))"
      ]
     },
     "execution_count": 7,
     "metadata": {},
     "output_type": "execute_result"
    }
   ],
   "source": [
    "from scipy.stats import binom    #Forma resumida de sacar la media y la varianza para probabilidad discrtea binomial\n",
    "mean, var, skew, kurt = binom.stats( moments = 'mvsk',p = 0.3, n = 8)\n",
    "mean,var"
   ]
  },
  {
   "cell_type": "code",
   "execution_count": 14,
   "metadata": {},
   "outputs": [
    {
     "data": {
      "text/plain": [
       "<matplotlib.legend.Legend at 0x16b2ad97908>"
      ]
     },
     "execution_count": 14,
     "metadata": {},
     "output_type": "execute_result"
    },
    {
     "data": {
      "image/png": "[encoded data removed]",
      "text/plain": [
       "<Figure size 432x288 with 1 Axes>"
      ]
     },
     "metadata": {
      "needs_background": "light"
     },
     "output_type": "display_data"
    }
   ],
   "source": [
    "media = np.average(x, weights = y)    #Promedio ponderado\n",
    "\n",
    "varianza = np.average( (( x - media )**2),  weights = y )  #varianza - la suma al cuadrado de los errores.\n",
    "#error : es el valor de x - el valor esperado de x (media ponderada) Desviación estandar \n",
    "\n",
    "media, varianza\n",
    "\n",
    "fig, ax = plt.subplots()\n",
    "ax.bar(x,y)\n",
    "ax.set_ylabel('probabilidad discreta')\n",
    "ax.axvline( x = media, c = 'r', linestyle = '--', label = 'Valor Esperado')\n",
    "ax.axvline( x = media + 3*np.sqrt(varianza), c = 'r', linestyle = '--', label = 'Desviacion Estandar') #np.sqrt(raiz cuadrada) \n",
    "#y 3 espacios permitidos para la derecha o izquierda (desviación estandar)\n",
    "ax.legend()"
   ]
  },
  {
   "cell_type": "code",
   "execution_count": 16,
   "metadata": {},
   "outputs": [
    {
     "data": {
      "text/plain": [
       "Text(0.5, 1.0, 'probabilidad continua')"
      ]
     },
     "execution_count": 16,
     "metadata": {},
     "output_type": "execute_result"
    },
    {
     "data": {
      "image/png": "[encoded data removed]",
      "text/plain": [
       "<Figure size 432x288 with 1 Axes>"
      ]
     },
     "metadata": {
      "needs_background": "light"
     },
     "output_type": "display_data"
    }
   ],
   "source": [
    "N = 10000        #Muestra, entre más grande sea N , más continua se verá mi variable.\n",
    "\n",
    "x = list(range(0,N+1,1))\n",
    "y = list([])\n",
    "\n",
    "for i in x : \n",
    "    y.append(binom.cdf(i, p = 0.3, n = N))   #pmf\n",
    "#y   \n",
    "fig, ax = plt.subplots()\n",
    "\n",
    "ax.plot(x, y)\n",
    "ax.set_title('probabilidad continua')"
   ]
  },
  {
   "cell_type": "code",
   "execution_count": 18,
   "metadata": {},
   "outputs": [
    {
     "data": {
      "text/plain": [
       "array(1.)"
      ]
     },
     "execution_count": 18,
     "metadata": {},
     "output_type": "execute_result"
    }
   ],
   "source": [
    "from scipy.stats import norm\n",
    "mean, var, skew, kurt = norm.stats( moments = 'mvsk')\n",
    "mean\n",
    "var"
   ]
  }
 ],
 "metadata": {
  "kernelspec": {
   "display_name": "Python 3",
   "language": "python",
   "name": "python3"
  },
  "language_info": {
   "codemirror_mode": {
    "name": "ipython",
    "version": 3
   },
   "file_extension": ".py",
   "mimetype": "text/x-python",
   "name": "python",
   "nbconvert_exporter": "python",
   "pygments_lexer": "ipython3",
   "version": "3.7.4"
  }
 },
 "nbformat": 4,
 "nbformat_minor": 2
}
